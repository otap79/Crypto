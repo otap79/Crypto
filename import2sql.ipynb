{
 "cells": [
  {
   "cell_type": "code",
   "execution_count": null,
   "id": "bf0adfd5-795c-4300-ad79-7239b91b660e",
   "metadata": {
    "tags": []
   },
   "outputs": [],
   "source": [
    "import os\n",
    "import pandas as pd\n",
    "import sqlite3\n",
    "from tqdm.notebook import tqdm"
   ]
  },
  {
   "cell_type": "code",
   "execution_count": null,
   "id": "0177f0ec-e9a5-4593-9985-e29fcc446177",
   "metadata": {
    "tags": []
   },
   "outputs": [],
   "source": [
    "column_names = [\n",
    "    \"open_time\",\n",
    "    \"open\",\n",
    "    \"high\",\n",
    "    \"low\",\n",
    "    \"close\",\n",
    "    \"volume\",\n",
    "    \"close_time\",\n",
    "    \"quote_asset_volume\",\n",
    "    \"number_of_trades\",\n",
    "    \"taker_buy_base_asset_volume\",\n",
    "    \"taker_buy_quote_asset_volume\",\n",
    "    \"ignore\"\n",
    "]"
   ]
  },
  {
   "cell_type": "code",
   "execution_count": null,
   "id": "7fd27171-b3b0-4b61-af4b-a700d49a0f28",
   "metadata": {
    "tags": []
   },
   "outputs": [],
   "source": [
    "db_path = \"binance_klines.db\"\n",
    "data_dir = \"binance_klines\"  # Folder where your CSVs are organized by symbol"
   ]
  },
  {
   "cell_type": "code",
   "execution_count": null,
   "id": "c6848a4f-3999-4411-806d-0bdad7ca4e9f",
   "metadata": {
    "tags": []
   },
   "outputs": [],
   "source": [
    "conn = sqlite3.connect(db_path)\n",
    "cursor = conn.cursor()\n"
   ]
  },
  {
   "cell_type": "code",
   "execution_count": null,
   "id": "c36f7a12-c129-49d8-b77e-e948ee00c247",
   "metadata": {
    "tags": []
   },
   "outputs": [],
   "source": [
    "# Create table if not exists\n",
    "cursor.execute(\"\"\"\n",
    "CREATE TABLE IF NOT EXISTS klines (\n",
    "    symbol TEXT,\n",
    "    open_time INTEGER,\n",
    "    open REAL,\n",
    "    high REAL,\n",
    "    low REAL,\n",
    "    close REAL,\n",
    "    volume REAL,\n",
    "    close_time INTEGER,\n",
    "    quote_asset_volume REAL,\n",
    "    number_of_trades INTEGER,\n",
    "    taker_buy_base_asset_volume REAL,\n",
    "    taker_buy_quote_asset_volume REAL\n",
    ")\n",
    "\"\"\")\n",
    "conn.commit()\n"
   ]
  },
  {
   "cell_type": "code",
   "execution_count": null,
   "id": "8aafdfd8-785c-47d1-9b16-89c84c1b273e",
   "metadata": {
    "tags": []
   },
   "outputs": [],
   "source": [
    "for symbol in tqdm(os.listdir(data_dir)):\n",
    "    symbol_dir = os.path.join(data_dir, symbol)\n",
    "    if not os.path.isdir(symbol_dir):\n",
    "        continue\n",
    "    for fname in os.listdir(symbol_dir):\n",
    "        if fname.endswith(\".csv\"):\n",
    "            fpath = os.path.join(symbol_dir, fname)\n",
    "            print(f\"Importing {fpath}\")\n",
    "            df = pd.read_csv(fpath, names=column_names, header=None)\n",
    "            df = df.drop(columns=[\"ignore\"])\n",
    "            df[\"symbol\"] = symbol\n",
    "            # Reorder columns to match table\n",
    "            df = df[[\"symbol\"] + column_names[:-1]]\n",
    "            df.to_sql(\"klines\", conn, if_exists=\"append\", index=False)\n",
    "\n",
    "conn.close()"
   ]
  },
  {
   "cell_type": "code",
   "execution_count": null,
   "id": "831c1632-615c-4231-819f-850c627d8c97",
   "metadata": {
    "tags": []
   },
   "outputs": [],
   "source": [
    "db_path = \"binance_klines.db\"\n",
    "symbol = \"BTCUSDT\"\n",
    "start_time = 1704067200000  # Example: 2024-01-01 00:00:00 UTC in ms\n",
    "end_time = 1706745599999    # Example: 2024-01-31 23:59:59 UTC in ms\n",
    "\n"
   ]
  },
  {
   "cell_type": "code",
   "execution_count": null,
   "id": "3bafef0c-a37c-4602-bc42-00e21b96c605",
   "metadata": {
    "tags": []
   },
   "outputs": [],
   "source": [
    "conn = sqlite3.connect(db_path)\n",
    "cursor = conn.cursor()\n",
    "\n",
    "query = \"\"\"\n",
    "SELECT * FROM klines\n",
    "WHERE symbol = ?\n",
    "  AND open_time BETWEEN ? AND ?\n",
    "ORDER BY open_time\n",
    "\"\"\"\n",
    "\n",
    "cursor.execute(query, (symbol, start_time, end_time))\n",
    "rows = cursor.fetchall()\n",
    "df = pd.DataFrame(rows,columns = column_names)\n",
    "\n",
    "conn.close()"
   ]
  },
  {
   "cell_type": "code",
   "execution_count": null,
   "id": "0d8a0e03-ee84-43fd-952f-c626cf60448d",
   "metadata": {
    "tags": []
   },
   "outputs": [],
   "source": [
    "df"
   ]
  },
  {
   "cell_type": "code",
   "execution_count": null,
   "id": "9e307ad2-be64-43e6-84f7-8f8d587a4390",
   "metadata": {},
   "outputs": [],
   "source": []
  }
 ],
 "metadata": {
  "kernelspec": {
   "display_name": "Python 3 (ipykernel)",
   "language": "python",
   "name": "python3"
  },
  "language_info": {
   "codemirror_mode": {
    "name": "ipython",
    "version": 3
   },
   "file_extension": ".py",
   "mimetype": "text/x-python",
   "name": "python",
   "nbconvert_exporter": "python",
   "pygments_lexer": "ipython3",
   "version": "3.9.6"
  }
 },
 "nbformat": 4,
 "nbformat_minor": 5
}
